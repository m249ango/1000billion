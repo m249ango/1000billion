{
 "cells": [
  {
   "cell_type": "code",
   "execution_count": 15,
   "id": "fabeae0a-877f-46a4-9c11-7ba76da62d2f",
   "metadata": {},
   "outputs": [],
   "source": [
    "import pandas as pd"
   ]
  },
  {
   "cell_type": "code",
   "execution_count": 17,
   "id": "9b23af87-a5ee-4545-9bc6-7e579db3c085",
   "metadata": {},
   "outputs": [],
   "source": [
    "df = pd.read_csv('train_Z_score.csv')"
   ]
  },
  {
   "cell_type": "code",
   "execution_count": 43,
   "id": "4348a748-34dd-4d39-9957-870eda13a3ba",
   "metadata": {},
   "outputs": [
    {
     "name": "stderr",
     "output_type": "stream",
     "text": [
      "C:\\Users\\qkrgm\\AppData\\Roaming\\Python\\Python312\\site-packages\\scipy\\stats\\_axis_nan_policy.py:586: RuntimeWarning: Precision loss occurred in moment calculation due to catastrophic cancellation. This occurs when the data are nearly identical. Results may be unreliable.\n",
      "  res = hypotest_fun_out(*samples, **kwds)\n"
     ]
    }
   ],
   "source": [
    "from scipy.stats import ttest_ind\n",
    "\n",
    "# 봇과 휴먼 계정으로 나누기\n",
    "bot_df = df[df['fake'] == 1]\n",
    "human_df = df[df['fake'] == 0]\n",
    "\n",
    "# t-test 수행\n",
    "t_test_results = []\n",
    "for col in df.columns[:-1]:  # 'fake' 제외\n",
    "    t_stat, p_value = ttest_ind(bot_df[col], human_df[col], equal_var=False)\n",
    "    t_test_results.append({\n",
    "        \"feature\": col,\n",
    "        \"t_statistic\": t_stat,\n",
    "        \"p_value\": p_value,\n",
    "        \"reject_null\": p_value < 0.05\n",
    "    })\n",
    "\n",
    "# 결과를 DataFrame으로 변환하고 정렬\n",
    "t_test_df = pd.DataFrame(t_test_results).sort_values(by=\"p_value\")\n",
    "\n",
    "# CSV로 저장\n",
    "t_test_df.to_csv(\"t_test_results.csv\", index=False)\n"
   ]
  },
  {
   "cell_type": "code",
   "execution_count": 63,
   "id": "8bb0215c-d0c5-4641-b88c-a5b50d14c614",
   "metadata": {},
   "outputs": [
    {
     "data": {
      "text/html": [
       "<div>\n",
       "<style scoped>\n",
       "    .dataframe tbody tr th:only-of-type {\n",
       "        vertical-align: middle;\n",
       "    }\n",
       "\n",
       "    .dataframe tbody tr th {\n",
       "        vertical-align: top;\n",
       "    }\n",
       "\n",
       "    .dataframe thead th {\n",
       "        text-align: right;\n",
       "    }\n",
       "</style>\n",
       "<table border=\"1\" class=\"dataframe\">\n",
       "  <thead>\n",
       "    <tr style=\"text-align: right;\">\n",
       "      <th></th>\n",
       "      <th>feature</th>\n",
       "      <th>p_value</th>\n",
       "      <th>reject_null</th>\n",
       "    </tr>\n",
       "  </thead>\n",
       "  <tbody>\n",
       "    <tr>\n",
       "      <th>0</th>\n",
       "      <td>profile pic</td>\n",
       "      <td>1.212476e-56</td>\n",
       "      <td>True</td>\n",
       "    </tr>\n",
       "    <tr>\n",
       "      <th>1</th>\n",
       "      <td>nums/length username</td>\n",
       "      <td>5.029349e-50</td>\n",
       "      <td>True</td>\n",
       "    </tr>\n",
       "    <tr>\n",
       "      <th>5</th>\n",
       "      <td>description length</td>\n",
       "      <td>2.310173e-30</td>\n",
       "      <td>True</td>\n",
       "    </tr>\n",
       "    <tr>\n",
       "      <th>6</th>\n",
       "      <td>external URL</td>\n",
       "      <td>3.033368e-18</td>\n",
       "      <td>True</td>\n",
       "    </tr>\n",
       "    <tr>\n",
       "      <th>2</th>\n",
       "      <td>fullname words</td>\n",
       "      <td>3.495455e-13</td>\n",
       "      <td>True</td>\n",
       "    </tr>\n",
       "    <tr>\n",
       "      <th>3</th>\n",
       "      <td>nums/length fullname</td>\n",
       "      <td>3.130066e-09</td>\n",
       "      <td>True</td>\n",
       "    </tr>\n",
       "    <tr>\n",
       "      <th>8</th>\n",
       "      <td>#posts</td>\n",
       "      <td>4.160557e-09</td>\n",
       "      <td>True</td>\n",
       "    </tr>\n",
       "    <tr>\n",
       "      <th>10</th>\n",
       "      <td>#follows</td>\n",
       "      <td>5.210246e-08</td>\n",
       "      <td>True</td>\n",
       "    </tr>\n",
       "    <tr>\n",
       "      <th>4</th>\n",
       "      <td>name==username</td>\n",
       "      <td>4.261128e-05</td>\n",
       "      <td>True</td>\n",
       "    </tr>\n",
       "    <tr>\n",
       "      <th>9</th>\n",
       "      <td>#followers</td>\n",
       "      <td>2.491610e-02</td>\n",
       "      <td>True</td>\n",
       "    </tr>\n",
       "    <tr>\n",
       "      <th>7</th>\n",
       "      <td>private</td>\n",
       "      <td>4.935245e-01</td>\n",
       "      <td>False</td>\n",
       "    </tr>\n",
       "  </tbody>\n",
       "</table>\n",
       "</div>"
      ],
      "text/plain": [
       "                 feature       p_value  reject_null\n",
       "0            profile pic  1.212476e-56         True\n",
       "1   nums/length username  5.029349e-50         True\n",
       "5     description length  2.310173e-30         True\n",
       "6           external URL  3.033368e-18         True\n",
       "2         fullname words  3.495455e-13         True\n",
       "3   nums/length fullname  3.130066e-09         True\n",
       "8                 #posts  4.160557e-09         True\n",
       "10              #follows  5.210246e-08         True\n",
       "4         name==username  4.261128e-05         True\n",
       "9             #followers  2.491610e-02         True\n",
       "7                private  4.935245e-01        False"
      ]
     },
     "execution_count": 63,
     "metadata": {},
     "output_type": "execute_result"
    }
   ],
   "source": [
    "\n",
    "t_test_df[:][['feature','p_value','reject_null']]"
   ]
  },
  {
   "cell_type": "code",
   "execution_count": 65,
   "id": "539e8a14-5ada-4d2b-8f5b-d16fa0b24391",
   "metadata": {},
   "outputs": [
    {
     "name": "stdout",
     "output_type": "stream",
     "text": [
      "<class 'pandas.core.frame.DataFrame'>\n",
      "RangeIndex: 576 entries, 0 to 575\n",
      "Data columns (total 12 columns):\n",
      " #   Column                Non-Null Count  Dtype  \n",
      "---  ------                --------------  -----  \n",
      " 0   profile pic           576 non-null    float64\n",
      " 1   nums/length username  576 non-null    float64\n",
      " 2   fullname words        576 non-null    float64\n",
      " 3   nums/length fullname  576 non-null    float64\n",
      " 4   name==username        576 non-null    float64\n",
      " 5   description length    576 non-null    float64\n",
      " 6   external URL          576 non-null    float64\n",
      " 7   private               576 non-null    float64\n",
      " 8   #posts                576 non-null    float64\n",
      " 9   #followers            576 non-null    float64\n",
      " 10  #follows              576 non-null    float64\n",
      " 11  fake                  576 non-null    int64  \n",
      "dtypes: float64(11), int64(1)\n",
      "memory usage: 54.1 KB\n"
     ]
    },
    {
     "data": {
      "text/plain": [
       "(None,\n",
       "    profile pic  nums/length username  fullname words  nums/length fullname  \\\n",
       " 0      0.65249              0.496299       -1.388312             -0.288723   \n",
       " 1      0.65249             -0.765916        0.513395             -0.288723   \n",
       " 2      0.65249             -0.298429        0.513395             -0.288723   \n",
       " 3      0.65249             -0.765916       -0.437459             -0.288723   \n",
       " 4      0.65249             -0.765916        0.513395             -0.288723   \n",
       " \n",
       "    name==username  description length  external URL   private    #posts  \\\n",
       " 0       -0.189661            0.806385     -0.362809 -0.786115 -0.187932   \n",
       " 1       -0.189661            0.567470     -0.362809 -0.786115  0.444404   \n",
       " 2       -0.189661           -0.600561     -0.362809  1.272078 -0.235233   \n",
       " 3       -0.189661            1.576224     -0.362809 -0.786115  1.422782   \n",
       " 4       -0.189661           -0.600561     -0.362809  1.272078 -0.252659   \n",
       " \n",
       "    #followers  #follows  fake  \n",
       " 0   -0.092711  0.486945     0  \n",
       " 1   -0.090797  0.026841     0  \n",
       " 2   -0.093636 -0.447437     0  \n",
       " 3   -0.093355  0.155496     0  \n",
       " 4   -0.093644 -0.416909     0  )"
      ]
     },
     "execution_count": 65,
     "metadata": {},
     "output_type": "execute_result"
    }
   ],
   "source": [
    "import pandas as pd\n",
    "\n",
    "# 파일 경로\n",
    "file_path = \"/mnt/data/train_Z_score.csv\"\n",
    "\n",
    "# CSV 파일 불러오기\n",
    "df = pd.read_csv(file_path)\n",
    "\n",
    "# 데이터프레임 정보 확인\n",
    "df.info(), df.head()\n"
   ]
  },
  {
   "cell_type": "code",
   "execution_count": null,
   "id": "914aa84f-01c7-4924-94c2-68550a61cd15",
   "metadata": {},
   "outputs": [],
   "source": []
  }
 ],
 "metadata": {
  "kernelspec": {
   "display_name": "Python 3 (ipykernel)",
   "language": "python",
   "name": "python3"
  },
  "language_info": {
   "codemirror_mode": {
    "name": "ipython",
    "version": 3
   },
   "file_extension": ".py",
   "mimetype": "text/x-python",
   "name": "python",
   "nbconvert_exporter": "python",
   "pygments_lexer": "ipython3",
   "version": "3.12.4"
  }
 },
 "nbformat": 4,
 "nbformat_minor": 5
}
