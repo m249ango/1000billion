{
 "cells": [
  {
   "cell_type": "code",
   "execution_count": 5,
   "id": "a88f1d18-7ad4-4754-9676-5dec8f6caaa1",
   "metadata": {},
   "outputs": [
    {
     "name": "stdout",
     "output_type": "stream",
     "text": [
      "완료\n"
     ]
    }
   ],
   "source": [
    "import pandas as pd\n",
    "from sklearn.preprocessing import StandardScaler\n",
    "\n",
    "df = pd.read_csv(\"C:/Users/pplla/Desktop/train.csv\")   #X-Score 정규화 하려는 파일의 치치\n",
    "\n",
    "label_col = 'fake'\n",
    "features = df.drop(columns=[label_col])\n",
    "label = df[label_col]\n",
    "\n",
    "scaler = StandardScaler()\n",
    "normalized_features = scaler.fit_transform(features)\n",
    "df_normalized = pd.DataFrame(normalized_features, columns=features.columns)\n",
    "\n",
    "df_normalized[label_col] = label\n",
    "df_normalized.to_csv('train_Z_score.csv', index=False)\n",
    "\n",
    "print(\"완료\")"
   ]
  },
  {
   "cell_type": "code",
   "execution_count": null,
   "id": "a4887a83-fbd8-4335-acdb-5226e21bf53b",
   "metadata": {},
   "outputs": [],
   "source": []
  }
 ],
 "metadata": {
  "kernelspec": {
   "display_name": "Python [conda env:base] *",
   "language": "python",
   "name": "conda-base-py"
  },
  "language_info": {
   "codemirror_mode": {
    "name": "ipython",
    "version": 3
   },
   "file_extension": ".py",
   "mimetype": "text/x-python",
   "name": "python",
   "nbconvert_exporter": "python",
   "pygments_lexer": "ipython3",
   "version": "3.12.7"
  }
 },
 "nbformat": 4,
 "nbformat_minor": 5
}
