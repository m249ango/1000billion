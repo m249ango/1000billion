{
 "cells": [
  {
   "cell_type": "code",
   "execution_count": 1,
   "id": "c6b26b17-4151-4e7e-85e3-1efdfd15734d",
   "metadata": {},
   "outputs": [],
   "source": [
    "import pandas as pd"
   ]
  },
  {
   "cell_type": "code",
   "execution_count": 3,
   "id": "1bd16e98-dafc-4163-947b-3a0ad3f453d6",
   "metadata": {},
   "outputs": [],
   "source": [
    "from sklearn.ensemble import VotingClassifier\n",
    "from sklearn.ensemble import GradientBoostingClassifier, RandomForestClassifier\n",
    "import lightgbm as lgb\n",
    "import xgboost as xgb\n",
    "from sklearn.model_selection import train_test_split\n",
    "from sklearn.metrics import accuracy_score, classification_report"
   ]
  },
  {
   "cell_type": "code",
   "execution_count": 5,
   "id": "61138f9f-39f5-4d1e-8154-aa6567b4964d",
   "metadata": {},
   "outputs": [],
   "source": [
    "train_data_set = pd.read_csv('retrain_z_score.csv')\n",
    "test_data_set = pd.read_csv('model_b_prime_test.csv')"
   ]
  },
  {
   "cell_type": "code",
   "execution_count": 7,
   "id": "1092aa81-7bd2-4e25-913a-53b6c1e0117e",
   "metadata": {},
   "outputs": [],
   "source": [
    "selected_features = [\n",
    "    \"description length\",\n",
    "    \"#posts\",\n",
    "    \"nums/length username\",\n",
    "    \"#followers\",\n",
    "    \"#follows\",\n",
    "    \"fullname words\",\n",
    "    \"private\",\n",
    "    \"nums/length fullname\",\n",
    "    \"external URL\",\n",
    "    # \"name==username\",\n",
    "    # \"profile pic\"/\n",
    "\n",
    "] #x_data_set에서 p-value를 검증을 했을 때 결과와 유의미하다고 판단된 특성들 만을 활용해서 학습"
   ]
  },
  {
   "cell_type": "code",
   "execution_count": 11,
   "id": "92748a49-ceb9-4ccf-8ba0-ae934a8fa78c",
   "metadata": {},
   "outputs": [],
   "source": [
    "df_X_selected = train_data_set[selected_features + ['fake']]\n",
    "df_insta_selected = test_data_set[selected_features + ['fake']]"
   ]
  },
  {
   "cell_type": "code",
   "execution_count": 13,
   "id": "06bd22cc-d746-4ea4-9b4c-13b5eccbc5c0",
   "metadata": {},
   "outputs": [],
   "source": [
    "X = df_X_selected.drop(columns=[\"fake\"])\n",
    "y = df_X_selected[\"fake\"]"
   ]
  },
  {
   "cell_type": "code",
   "execution_count": 15,
   "id": "5894fcea-bd19-4089-9969-98bf90c8e04c",
   "metadata": {},
   "outputs": [],
   "source": [
    "X_train, X_vali, y_train, y_vali = train_test_split(X, y, test_size=0.2, random_state=42)"
   ]
  },
  {
   "cell_type": "code",
   "execution_count": 17,
   "id": "fe9c74e9-a7cd-4419-9cb0-bc7b2beb6f8f",
   "metadata": {},
   "outputs": [],
   "source": [
    "# 개별 모델 정의\n",
    "model1 = GradientBoostingClassifier(random_state=42)\n",
    "model2 = RandomForestClassifier(random_state=42)\n",
    "model3 = lgb.LGBMClassifier(random_state=42)\n",
    "model4 = xgb.XGBClassifier(use_label_encoder=False, eval_metric='logloss')"
   ]
  },
  {
   "cell_type": "code",
   "execution_count": 19,
   "id": "23d26c08-e0eb-48bf-a866-182df1e79ed7",
   "metadata": {},
   "outputs": [],
   "source": [
    "# 소프트 보팅 앙상블\n",
    "voting_clf = VotingClassifier(\n",
    "    estimators=[\n",
    "        ('gb', model1),\n",
    "        ('rf', model2),\n",
    "        ('lgbm', model3),\n",
    "        ('xgb', model4)\n",
    "    ],\n",
    "    voting='soft'\n",
    ")"
   ]
  },
  {
   "cell_type": "code",
   "execution_count": 21,
   "id": "9e619147-6065-4987-aefd-95ad0b43702e",
   "metadata": {},
   "outputs": [
    {
     "name": "stdout",
     "output_type": "stream",
     "text": [
      "[LightGBM] [Warning] Found whitespace in feature_names, replace with underlines\n",
      "[LightGBM] [Info] Number of positive: 1717, number of negative: 1610\n",
      "[LightGBM] [Info] Auto-choosing row-wise multi-threading, the overhead of testing was 0.001111 seconds.\n",
      "You can set `force_row_wise=true` to remove the overhead.\n",
      "And if memory is not enough, you can set `force_col_wise=true`.\n",
      "[LightGBM] [Info] Total Bins 1025\n",
      "[LightGBM] [Info] Number of data points in the train set: 3327, number of used features: 9\n",
      "[LightGBM] [Info] [binary:BoostFromScore]: pavg=0.516081 -> initscore=0.064344\n",
      "[LightGBM] [Info] Start training from score 0.064344\n"
     ]
    },
    {
     "name": "stderr",
     "output_type": "stream",
     "text": [
      "C:\\Users\\qkrgm\\anaconda3\\Lib\\site-packages\\xgboost\\training.py:183: UserWarning: [00:38:03] WARNING: C:\\actions-runner\\_work\\xgboost\\xgboost\\src\\learner.cc:738: \n",
      "Parameters: { \"use_label_encoder\" } are not used.\n",
      "\n",
      "  bst.update(dtrain, iteration=i, fobj=obj)\n"
     ]
    },
    {
     "name": "stdout",
     "output_type": "stream",
     "text": [
      "Voting Classifier Accuracy: 0.7932692307692307\n",
      "              precision    recall  f1-score   support\n",
      "\n",
      "        Real       0.83      0.75      0.79       433\n",
      "        Fake       0.76      0.84      0.80       399\n",
      "\n",
      "    accuracy                           0.79       832\n",
      "   macro avg       0.80      0.79      0.79       832\n",
      "weighted avg       0.80      0.79      0.79       832\n",
      "\n"
     ]
    }
   ],
   "source": [
    "# 학습 및 평가\n",
    "voting_clf.fit(X_train, y_train)\n",
    "preds = voting_clf.predict(X_vali)\n",
    "\n",
    "# 결과 출력\n",
    "print(\"Voting Classifier Accuracy:\", accuracy_score(y_vali, preds))\n",
    "print(classification_report(y_vali, preds, target_names=[\"Real\", \"Fake\"]))\n"
   ]
  },
  {
   "cell_type": "code",
   "execution_count": 23,
   "id": "cea08505-06a2-4006-af86-7feda471222c",
   "metadata": {},
   "outputs": [],
   "source": [
    "X_test = df_insta_selected.drop(columns=[\"fake\"])\n",
    "y_test = df_insta_selected[\"fake\"]"
   ]
  },
  {
   "cell_type": "code",
   "execution_count": 25,
   "id": "2e9ddca5-6c74-472a-a94b-235b24856982",
   "metadata": {},
   "outputs": [
    {
     "name": "stdout",
     "output_type": "stream",
     "text": [
      "Voting Classifier Accuracy: 0.6954022988505747\n",
      "              precision    recall  f1-score   support\n",
      "\n",
      "        Real       0.90      0.44      0.59       348\n",
      "        Fake       0.63      0.95      0.76       348\n",
      "\n",
      "    accuracy                           0.70       696\n",
      "   macro avg       0.76      0.70      0.67       696\n",
      "weighted avg       0.76      0.70      0.67       696\n",
      "\n"
     ]
    }
   ],
   "source": [
    "preds = voting_clf.predict(X_test)\n",
    "\n",
    "# 결과 출력\n",
    "print(\"Voting Classifier Accuracy:\", accuracy_score(y_test, preds))\n",
    "print(classification_report(y_test, preds, target_names=[\"Real\", \"Fake\"]))"
   ]
  }
 ],
 "metadata": {
  "kernelspec": {
   "display_name": "Python 3 (ipykernel)",
   "language": "python",
   "name": "python3"
  },
  "language_info": {
   "codemirror_mode": {
    "name": "ipython",
    "version": 3
   },
   "file_extension": ".py",
   "mimetype": "text/x-python",
   "name": "python",
   "nbconvert_exporter": "python",
   "pygments_lexer": "ipython3",
   "version": "3.12.4"
  }
 },
 "nbformat": 4,
 "nbformat_minor": 5
}
