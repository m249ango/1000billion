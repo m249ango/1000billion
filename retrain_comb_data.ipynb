{
 "cells": [
  {
   "cell_type": "code",
   "execution_count": 77,
   "id": "f7a33c2d-4f83-4026-87e4-caa5c27d01c2",
   "metadata": {},
   "outputs": [],
   "source": [
    "import pandas as pd\n",
    "from sklearn.preprocessing import StandardScaler"
   ]
  },
  {
   "cell_type": "code",
   "execution_count": 79,
   "id": "58dfc7ae-39a4-4302-b643-a200d2605ee3",
   "metadata": {},
   "outputs": [],
   "source": [
    "df_1 = pd.read_csv('x_user_data.csv')"
   ]
  },
  {
   "cell_type": "code",
   "execution_count": 81,
   "id": "95f32d1d-8843-4d51-962d-7e4851e69f3b",
   "metadata": {},
   "outputs": [],
   "source": [
    "df_2 = pd.read_csv('Bot_user_data2.csv')"
   ]
  },
  {
   "cell_type": "code",
   "execution_count": 83,
   "id": "4604d5b0-0caa-421d-a602-497f3c5fa843",
   "metadata": {},
   "outputs": [],
   "source": [
    "retrain_com_df = pd.concat([df_1, df_2], ignore_index=True)"
   ]
  },
  {
   "cell_type": "code",
   "execution_count": 85,
   "id": "84df43a9-659d-4eac-b55b-c42391be48ce",
   "metadata": {},
   "outputs": [
    {
     "name": "stdout",
     "output_type": "stream",
     "text": [
      "완료\n"
     ]
    }
   ],
   "source": [
    "label_col = 'fake'\n",
    "features = retrain_com_df.drop(columns=[label_col])\n",
    "label = retrain_com_df[label_col]\n",
    "\n",
    "scaler = StandardScaler()\n",
    "scaler.fit(features)\n",
    "normalized_features = scaler.transform(features)\n",
    "df_normalized = pd.DataFrame(normalized_features, columns=features.columns)\n",
    "\n",
    "df_normalized[label_col] = label\n",
    "df_normalized.to_csv('retrain_z_score.csv', index=False)\n",
    "\n",
    "print(\"완료\")"
   ]
  },
  {
   "cell_type": "code",
   "execution_count": 87,
   "id": "a6ffa9a4-73d4-4cef-b40e-e44cd368fb7c",
   "metadata": {},
   "outputs": [],
   "source": [
    "df_3 = pd.read_csv('train.csv')"
   ]
  },
  {
   "cell_type": "code",
   "execution_count": 89,
   "id": "fa0a8aef-d217-40d2-a6b8-d3d631c6112c",
   "metadata": {},
   "outputs": [],
   "source": [
    "df_4 = pd.read_csv(\"test.csv\")"
   ]
  },
  {
   "cell_type": "code",
   "execution_count": 91,
   "id": "c22c676f-280c-4be6-9ece-ae9a8d6cdb18",
   "metadata": {},
   "outputs": [],
   "source": [
    "df_com = pd.concat([df_3,df_4], ignore_index = True)"
   ]
  },
  {
   "cell_type": "code",
   "execution_count": 93,
   "id": "47f40e78-f39e-4749-a035-f7412fdf8798",
   "metadata": {},
   "outputs": [],
   "source": [
    "label_col = 'fake'\n",
    "test_features = df_com.drop(columns=[label_col])\n",
    "test_label = df_com[label_col]\n",
    "\n",
    "test_normalized_features = scaler.transform(test_features)\n",
    "test_df_normal = pd.DataFrame(test_normalized_features, columns = test_features.columns)\n"
   ]
  },
  {
   "cell_type": "code",
   "execution_count": 95,
   "id": "5b52cb0a-8a27-48dd-b189-2c40f85e8afe",
   "metadata": {},
   "outputs": [],
   "source": [
    "test_df_normal[label_col] = test_label"
   ]
  },
  {
   "cell_type": "code",
   "execution_count": 97,
   "id": "36a1c1e6-c112-4f2a-93a7-352b2d9d36bc",
   "metadata": {},
   "outputs": [],
   "source": [
    "test_df_normal.to_csv('model_b_prime_test.csv')"
   ]
  },
  {
   "cell_type": "code",
   "execution_count": 99,
   "id": "977e29b3-119f-46d7-a4ae-7318d6ae7e9b",
   "metadata": {},
   "outputs": [],
   "source": [
    "df_x =  df_normalized"
   ]
  },
  {
   "cell_type": "code",
   "execution_count": 101,
   "id": "7790b08f-4d5e-4dc0-b458-99bfbb72a9a5",
   "metadata": {},
   "outputs": [
    {
     "data": {
      "text/html": [
       "<div>\n",
       "<style scoped>\n",
       "    .dataframe tbody tr th:only-of-type {\n",
       "        vertical-align: middle;\n",
       "    }\n",
       "\n",
       "    .dataframe tbody tr th {\n",
       "        vertical-align: top;\n",
       "    }\n",
       "\n",
       "    .dataframe thead th {\n",
       "        text-align: right;\n",
       "    }\n",
       "</style>\n",
       "<table border=\"1\" class=\"dataframe\">\n",
       "  <thead>\n",
       "    <tr style=\"text-align: right;\">\n",
       "      <th></th>\n",
       "      <th>feature</th>\n",
       "      <th>t_statistic</th>\n",
       "      <th>p_value</th>\n",
       "      <th>reject_null</th>\n",
       "    </tr>\n",
       "  </thead>\n",
       "  <tbody>\n",
       "    <tr>\n",
       "      <th>5</th>\n",
       "      <td>description length</td>\n",
       "      <td>-21.322280</td>\n",
       "      <td>8.245719e-96</td>\n",
       "      <td>True</td>\n",
       "    </tr>\n",
       "    <tr>\n",
       "      <th>8</th>\n",
       "      <td>#posts</td>\n",
       "      <td>-14.056530</td>\n",
       "      <td>5.152958e-43</td>\n",
       "      <td>True</td>\n",
       "    </tr>\n",
       "    <tr>\n",
       "      <th>1</th>\n",
       "      <td>nums/length username</td>\n",
       "      <td>9.264103</td>\n",
       "      <td>3.164647e-20</td>\n",
       "      <td>True</td>\n",
       "    </tr>\n",
       "    <tr>\n",
       "      <th>2</th>\n",
       "      <td>fullname words</td>\n",
       "      <td>-6.736396</td>\n",
       "      <td>1.850194e-11</td>\n",
       "      <td>True</td>\n",
       "    </tr>\n",
       "    <tr>\n",
       "      <th>7</th>\n",
       "      <td>private</td>\n",
       "      <td>5.216508</td>\n",
       "      <td>1.916712e-07</td>\n",
       "      <td>True</td>\n",
       "    </tr>\n",
       "    <tr>\n",
       "      <th>6</th>\n",
       "      <td>external URL</td>\n",
       "      <td>-4.392906</td>\n",
       "      <td>1.148084e-05</td>\n",
       "      <td>True</td>\n",
       "    </tr>\n",
       "    <tr>\n",
       "      <th>10</th>\n",
       "      <td>#follows</td>\n",
       "      <td>-3.950434</td>\n",
       "      <td>8.042372e-05</td>\n",
       "      <td>True</td>\n",
       "    </tr>\n",
       "    <tr>\n",
       "      <th>3</th>\n",
       "      <td>nums/length fullname</td>\n",
       "      <td>3.162030</td>\n",
       "      <td>1.580134e-03</td>\n",
       "      <td>True</td>\n",
       "    </tr>\n",
       "    <tr>\n",
       "      <th>9</th>\n",
       "      <td>#followers</td>\n",
       "      <td>-2.997420</td>\n",
       "      <td>2.753288e-03</td>\n",
       "      <td>True</td>\n",
       "    </tr>\n",
       "    <tr>\n",
       "      <th>4</th>\n",
       "      <td>name==username</td>\n",
       "      <td>0.038204</td>\n",
       "      <td>9.695270e-01</td>\n",
       "      <td>False</td>\n",
       "    </tr>\n",
       "    <tr>\n",
       "      <th>0</th>\n",
       "      <td>profile pic</td>\n",
       "      <td>NaN</td>\n",
       "      <td>NaN</td>\n",
       "      <td>False</td>\n",
       "    </tr>\n",
       "  </tbody>\n",
       "</table>\n",
       "</div>"
      ],
      "text/plain": [
       "                 feature  t_statistic       p_value  reject_null\n",
       "5     description length   -21.322280  8.245719e-96         True\n",
       "8                 #posts   -14.056530  5.152958e-43         True\n",
       "1   nums/length username     9.264103  3.164647e-20         True\n",
       "2         fullname words    -6.736396  1.850194e-11         True\n",
       "7                private     5.216508  1.916712e-07         True\n",
       "6           external URL    -4.392906  1.148084e-05         True\n",
       "10              #follows    -3.950434  8.042372e-05         True\n",
       "3   nums/length fullname     3.162030  1.580134e-03         True\n",
       "9             #followers    -2.997420  2.753288e-03         True\n",
       "4         name==username     0.038204  9.695270e-01        False\n",
       "0            profile pic          NaN           NaN        False"
      ]
     },
     "execution_count": 101,
     "metadata": {},
     "output_type": "execute_result"
    }
   ],
   "source": [
    "from scipy.stats import ttest_ind\n",
    "\n",
    "# 봇과 휴먼 계정으로 나누기\n",
    "bot_df = df_x[df_x['fake'] == 1]\n",
    "human_df = df_x[df_x['fake'] == 0]\n",
    "\n",
    "# t-test 수행\n",
    "t_test_results = []\n",
    "for col in df_x.columns[:-1]:  # 'fake' 제외\n",
    "    t_stat, p_value = ttest_ind(bot_df[col], human_df[col], equal_var=False)\n",
    "    t_test_results.append({\n",
    "        \"feature\": col,\n",
    "        \"t_statistic\": t_stat,\n",
    "        \"p_value\": p_value,\n",
    "        \"reject_null\": p_value < 0.05\n",
    "    })\n",
    "\n",
    "# 결과를 DataFrame으로 변환하고 정렬\n",
    "t_test_df = pd.DataFrame(t_test_results).sort_values(by=\"p_value\")\n",
    "\n",
    "t_test_df\n"
   ]
  },
  {
   "cell_type": "code",
   "execution_count": 103,
   "id": "1441af48-8e5b-4484-ac34-37bbaf7d0a51",
   "metadata": {},
   "outputs": [],
   "source": [
    "\n",
    "t_test_df.to_csv(\"model_b_prime_data_vali.csv\", index=False)\n"
   ]
  },
  {
   "cell_type": "code",
   "execution_count": null,
   "id": "1b40940d-107f-4d3f-9498-bcc6ab6eef68",
   "metadata": {},
   "outputs": [],
   "source": []
  }
 ],
 "metadata": {
  "kernelspec": {
   "display_name": "Python 3 (ipykernel)",
   "language": "python",
   "name": "python3"
  },
  "language_info": {
   "codemirror_mode": {
    "name": "ipython",
    "version": 3
   },
   "file_extension": ".py",
   "mimetype": "text/x-python",
   "name": "python",
   "nbconvert_exporter": "python",
   "pygments_lexer": "ipython3",
   "version": "3.12.4"
  }
 },
 "nbformat": 4,
 "nbformat_minor": 5
}
